{
  "nbformat": 4,
  "nbformat_minor": 0,
  "metadata": {
    "colab": {
      "name": "Image_to_pdf.ipynb",
      "provenance": []
    },
    "kernelspec": {
      "name": "python3",
      "display_name": "Python 3"
    }
  },
  "cells": [
    {
      "cell_type": "code",
      "metadata": {
        "colab": {
          "base_uri": "https://localhost:8080/"
        },
        "id": "S5WkQPdtrbqK",
        "outputId": "8da6bd12-3bea-49e8-9e8d-51823b5d9a04"
      },
      "source": [
        "pip install img2pdf"
      ],
      "execution_count": 1,
      "outputs": [
        {
          "output_type": "stream",
          "text": [
            "Collecting img2pdf\n",
            "\u001b[?25l  Downloading https://files.pythonhosted.org/packages/80/ed/5167992abaf268f5a5867e974d9d36a8fa4802800898ec711f4e1942b4f5/img2pdf-0.4.0.tar.gz (107kB)\n",
            "\u001b[K     |████████████████████████████████| 112kB 5.9MB/s \n",
            "\u001b[?25hRequirement already satisfied: Pillow in /usr/local/lib/python3.6/dist-packages (from img2pdf) (7.0.0)\n",
            "Collecting pikepdf\n",
            "\u001b[?25l  Downloading https://files.pythonhosted.org/packages/53/f5/5fc905cf41b14dc919920e97f84fa22af0bf73c187a4af11805dae615c57/pikepdf-2.1.1-cp36-cp36m-manylinux2010_x86_64.whl (1.9MB)\n",
            "\u001b[K     |████████████████████████████████| 1.9MB 20.7MB/s \n",
            "\u001b[?25hRequirement already satisfied: lxml>=4.0 in /usr/local/lib/python3.6/dist-packages (from pikepdf->img2pdf) (4.2.6)\n",
            "Building wheels for collected packages: img2pdf\n",
            "  Building wheel for img2pdf (setup.py) ... \u001b[?25l\u001b[?25hdone\n",
            "  Created wheel for img2pdf: filename=img2pdf-0.4.0-cp36-none-any.whl size=40502 sha256=b4312d85ba8cb7eeba5887c7a4bbf2fac860a470ac643aba3c9ba11264582208\n",
            "  Stored in directory: /root/.cache/pip/wheels/90/f5/7f/b88a76bac33669118e7549f4856bbe975a3ad2e59280c59196\n",
            "Successfully built img2pdf\n",
            "Installing collected packages: pikepdf, img2pdf\n",
            "Successfully installed img2pdf-0.4.0 pikepdf-2.1.1\n"
          ],
          "name": "stdout"
        }
      ]
    },
    {
      "cell_type": "code",
      "metadata": {
        "id": "YVqDGk8grIHB"
      },
      "source": [
        "import sys\n",
        "import img2pdf\n",
        "import os\n",
        "\n",
        "filepath = sys.argv[1]\n",
        "if os.path.isdir(filepath):\n",
        "    with open(\"output.pdf\", \"wb\") as f:\n",
        "        imgs = []\n",
        "        for fname in os.listdir(filepath):\n",
        "            if not fname.endswith(\".jpg\"):\n",
        "                continue\n",
        "            path = os.path.join(filepath, fname)\n",
        "            if os.path.isdir(path):\n",
        "                continue\n",
        "            imgs.append(path)\n",
        "        f.write(img2pdf.convert(imgs))\n",
        "elif os.path.isfile(filepath):\n",
        "    if filepath.endswith(\".jpg\"):\n",
        "        with open(\"output.pdf\", \"wb\") as f:\n",
        "            f.write(img2pdf.convert(filepath))\n",
        "else:\n",
        "    print(\"please input file or dir\")"
      ],
      "execution_count": null,
      "outputs": []
    }
  ]
}