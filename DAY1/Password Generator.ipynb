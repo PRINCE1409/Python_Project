{
 "cells": [
  {
   "cell_type": "code",
   "execution_count": 12,
   "metadata": {},
   "outputs": [],
   "source": [
    "import random"
   ]
  },
  {
   "cell_type": "code",
   "execution_count": 13,
   "metadata": {},
   "outputs": [],
   "source": [
    "upperCaseLetters = 'ABCDEFGHIJKLMNIOPQRSTUVWXYZ'\n",
    "lowerCaseLetters = upperCaseLetters.lower()"
   ]
  },
  {
   "cell_type": "code",
   "execution_count": 14,
   "metadata": {},
   "outputs": [],
   "source": [
    "digits = '0123456789'\n",
    "symbols = \"(){}[],./;'~`!@#$%^&*_+=-\\|<>:?/\""
   ]
  },
  {
   "cell_type": "code",
   "execution_count": 15,
   "metadata": {},
   "outputs": [],
   "source": [
    "upper , lower , nums , symb = True , True , True , True"
   ]
  },
  {
   "cell_type": "code",
   "execution_count": 16,
   "metadata": {},
   "outputs": [],
   "source": [
    "all = \"\"\n",
    "if upper:\n",
    "    all += upperCaseLetters\n",
    "if lower:\n",
    "    all += lowerCaseLetters\n",
    "if nums:\n",
    "    all += digits\n",
    "if symb:\n",
    "    all+=symbols"
   ]
  },
  {
   "cell_type": "code",
   "execution_count": 17,
   "metadata": {},
   "outputs": [
    {
     "name": "stdout",
     "output_type": "stream",
     "text": [
      "fCbZi&%9v[1`#jH/rMw3\n",
      ".M[x;jILaNJAS~U-(`v1\n",
      "'vSXnEF8p,1<|mw6hT5i\n",
      "]Dq7d~3QIe\\_XHUns8VM\n",
      "46U$~Yxw%{=-AT;XgsIN\n",
      "\\?9;,LkwoO6[fa$yZge=\n",
      "aW,3l[$</y+iP8cboE@I\n",
      ".509]Q%Nj)7^sZcHaJ=z\n",
      ")QpZBUo2/cg&;.*IuFJ/\n",
      "A^Ed*Y`ri2(jL5$;HR6V\n",
      "^3iU-Rn.[,F>NWt=1+aK\n",
      "Zil=IuxCPz-<{5^1Da)N\n",
      "x,$PeU{^Q-riTVM@q9*O\n",
      "rj41M0ZLa{*v}<$%lPNh\n",
      "MOk9v^sB$gK]q5/p'Lao\n",
      ";1Thq}6gN:_oj&DvBwM2\n",
      "S)X'7c.4~tH}geK\\ax^:\n",
      "sR>41f<#uprVv\\.8`5b7\n",
      "bCtuSOg:?F*~Jh^ae}]+\n",
      "*a2v/`Ic)iw5?@TQ6|G8\n"
     ]
    }
   ],
   "source": [
    "length = 20\n",
    "amount = 20\n",
    "for x in range(amount):\n",
    "    password = \"\".join(random.sample(all,length))\n",
    "    print(password)"
   ]
  },
  {
   "cell_type": "code",
   "execution_count": null,
   "metadata": {},
   "outputs": [],
   "source": []
  }
 ],
 "metadata": {
  "kernelspec": {
   "display_name": "Python 3",
   "language": "python",
   "name": "python3"
  },
  "language_info": {
   "codemirror_mode": {
    "name": "ipython",
    "version": 3
   },
   "file_extension": ".py",
   "mimetype": "text/x-python",
   "name": "python",
   "nbconvert_exporter": "python",
   "pygments_lexer": "ipython3",
   "version": "3.7.4"
  }
 },
 "nbformat": 4,
 "nbformat_minor": 2
}
