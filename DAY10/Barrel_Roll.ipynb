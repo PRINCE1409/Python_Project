{
  "nbformat": 4,
  "nbformat_minor": 0,
  "metadata": {
    "colab": {
      "name": "Barrel Roll.ipynb",
      "provenance": []
    },
    "kernelspec": {
      "name": "python3",
      "display_name": "Python 3"
    }
  },
  "cells": [
    {
      "cell_type": "code",
      "metadata": {
        "colab": {
          "base_uri": "https://localhost:8080/"
        },
        "id": "TZJKgt0fPYCu",
        "outputId": "ef36e20d-088a-40ce-cee8-00571b56230d"
      },
      "source": [
        "pip install rotate-screen"
      ],
      "execution_count": null,
      "outputs": [
        {
          "output_type": "stream",
          "text": [
            "Requirement already satisfied: rotate-screen in /usr/local/lib/python3.6/dist-packages (0.1.0)\n"
          ],
          "name": "stdout"
        }
      ]
    },
    {
      "cell_type": "code",
      "metadata": {
        "id": "SeRl-aDiQI0s"
      },
      "source": [
        "import time"
      ],
      "execution_count": null,
      "outputs": []
    },
    {
      "cell_type": "code",
      "metadata": {
        "id": "ELZC6d5aQbwg"
      },
      "source": [
        "screen = rotatescreen.get_primary_display()\n",
        "for i in range(1000):\n",
        "  time.sleep(1)\n",
        "  screen.rotate_to(i*90 % 360)\n",
        "    "
      ],
      "execution_count": null,
      "outputs": []
    }
  ]
}