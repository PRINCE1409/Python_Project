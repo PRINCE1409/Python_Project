{
  "nbformat": 4,
  "nbformat_minor": 0,
  "metadata": {
    "colab": {
      "name": "dns_record.ipynb",
      "provenance": []
    },
    "kernelspec": {
      "name": "python3",
      "display_name": "Python 3"
    }
  },
  "cells": [
    {
      "cell_type": "code",
      "metadata": {
        "colab": {
          "base_uri": "https://localhost:8080/"
        },
        "id": "-UxEF1dX_x2g",
        "outputId": "22e26dd0-0718-4126-8e9b-caa351c33433"
      },
      "source": [
        "pip install dnspython"
      ],
      "execution_count": 3,
      "outputs": [
        {
          "output_type": "stream",
          "text": [
            "Collecting dnspython\n",
            "\u001b[?25l  Downloading https://files.pythonhosted.org/packages/90/49/cb426577c28ca3e35332815b795a99e467523843fc83cc85ca0d6be2515a/dnspython-2.0.0-py3-none-any.whl (208kB)\n",
            "\r\u001b[K     |█▋                              | 10kB 18.6MB/s eta 0:00:01\r\u001b[K     |███▏                            | 20kB 23.7MB/s eta 0:00:01\r\u001b[K     |████▊                           | 30kB 25.5MB/s eta 0:00:01\r\u001b[K     |██████▎                         | 40kB 20.6MB/s eta 0:00:01\r\u001b[K     |███████▉                        | 51kB 16.5MB/s eta 0:00:01\r\u001b[K     |█████████▍                      | 61kB 18.6MB/s eta 0:00:01\r\u001b[K     |███████████                     | 71kB 14.0MB/s eta 0:00:01\r\u001b[K     |████████████▋                   | 81kB 14.4MB/s eta 0:00:01\r\u001b[K     |██████████████▏                 | 92kB 14.5MB/s eta 0:00:01\r\u001b[K     |███████████████▊                | 102kB 13.4MB/s eta 0:00:01\r\u001b[K     |█████████████████▎              | 112kB 13.4MB/s eta 0:00:01\r\u001b[K     |██████████████████▉             | 122kB 13.4MB/s eta 0:00:01\r\u001b[K     |████████████████████▌           | 133kB 13.4MB/s eta 0:00:01\r\u001b[K     |██████████████████████          | 143kB 13.4MB/s eta 0:00:01\r\u001b[K     |███████████████████████▋        | 153kB 13.4MB/s eta 0:00:01\r\u001b[K     |█████████████████████████▏      | 163kB 13.4MB/s eta 0:00:01\r\u001b[K     |██████████████████████████▊     | 174kB 13.4MB/s eta 0:00:01\r\u001b[K     |████████████████████████████▎   | 184kB 13.4MB/s eta 0:00:01\r\u001b[K     |██████████████████████████████  | 194kB 13.4MB/s eta 0:00:01\r\u001b[K     |███████████████████████████████▌| 204kB 13.4MB/s eta 0:00:01\r\u001b[K     |████████████████████████████████| 215kB 13.4MB/s \n",
            "\u001b[?25hInstalling collected packages: dnspython\n",
            "Successfully installed dnspython-2.0.0\n"
          ],
          "name": "stdout"
        }
      ]
    },
    {
      "cell_type": "code",
      "metadata": {
        "id": "76gbfCSF_US0"
      },
      "source": [
        "import dns.resolver\n",
        "\n",
        "#Dictionary to store the dns record of a website\n",
        "dns_record = {}\n",
        "\n",
        "#User defined website\n",
        "website = input(\"Enter the name of the website: \")\n",
        "\n",
        "#Fetching the 'A' record of the website and storing it in the dictionary\n",
        "a_record = dns.resolver.resolve(website, 'A')\n",
        "for ipval in a_record:\n",
        "    dns_record['A_Record_IP'] = ipval.to_text()\n",
        "\n",
        "#List to store the mx records of a website\n",
        "mx_record_list = []\n",
        "\n",
        "#Fetching the mx records and storing them in the dictionary\n",
        "mx_record = dns.resolver.resolve(website,'MX')\n",
        "for server in mx_record:\n",
        "   mx_record_list.append(server)\n",
        "for i, element in enumerate(mx_record_list):\n",
        "    dns_record['MX_Record', i+1] = element\n",
        "\n",
        "#Displaying the record on the screen\n",
        "for key,value in dns_record.items():\n",
        "    print(f\"{key} = {value}\")"
      ],
      "execution_count": null,
      "outputs": []
    },
    {
      "cell_type": "code",
      "metadata": {
        "id": "nPAhbB6v_9pd"
      },
      "source": [
        ""
      ],
      "execution_count": null,
      "outputs": []
    }
  ]
}