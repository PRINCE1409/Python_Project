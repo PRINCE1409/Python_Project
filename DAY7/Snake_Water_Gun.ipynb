{
  "nbformat": 4,
  "nbformat_minor": 0,
  "metadata": {
    "colab": {
      "name": "Snake_Water_Gun.ipynb",
      "provenance": [],
      "collapsed_sections": []
    },
    "kernelspec": {
      "name": "python3",
      "display_name": "Python 3"
    }
  },
  "cells": [
    {
      "cell_type": "code",
      "metadata": {
        "id": "sYoHfM0f84do",
        "outputId": "f0666bb0-10ac-48fe-c961-66a7d7e28fde",
        "colab": {
          "base_uri": "https://localhost:8080/"
        }
      },
      "source": [
        "import random\n",
        "\n",
        "\n",
        "def gameWin(comp, you):\n",
        "    # If two values are equal, declare a tie!\n",
        "    if comp == you:\n",
        "        return None\n",
        "\n",
        "    # Check for all possibilities when computer chose s\n",
        "    elif comp == 's':\n",
        "        if you=='w':\n",
        "            return False\n",
        "        elif you=='g':\n",
        "            return True\n",
        "    \n",
        "    # Check for all possibilities when computer chose w\n",
        "    elif comp == 'w':\n",
        "        if you=='g':\n",
        "            return False\n",
        "        elif you=='s':\n",
        "            return True\n",
        "    \n",
        "    # Check for all possibilities when computer chose g\n",
        "    elif comp == 'g':\n",
        "        if you=='s':\n",
        "            return False\n",
        "        elif you=='w':\n",
        "            return True\n",
        "\n",
        "print(\"Comp Turn: Snake(s) Water(w) or Gun(g)?\")\n",
        "randNo = random.randint(1, 3) \n",
        "if randNo == 1:\n",
        "    comp = 's'\n",
        "elif randNo == 2:\n",
        "    comp = 'w'\n",
        "elif randNo == 3:\n",
        "    comp = 'g'\n",
        "\n",
        "you = input(\"Your Turn: Snake(s) Water(w) or Gun(g)?\")\n",
        "a = gameWin(comp, you)\n",
        "\n",
        "print(f\"Computer chose {comp}\")\n",
        "print(f\"You chose {you}\")\n",
        "\n",
        "if a == None:\n",
        "    print(\"The game is a tie!\")\n",
        "elif a:\n",
        "    print(\"You Win!\")\n",
        "else:\n",
        "    print(\"You Lose!\")"
      ],
      "execution_count": null,
      "outputs": [
        {
          "output_type": "stream",
          "text": [
            "Comp Turn: Snake(s) Water(w) or Gun(g)?\n"
          ],
          "name": "stdout"
        }
      ]
    },
    {
      "cell_type": "code",
      "metadata": {
        "id": "TZ3dDgpP9C4V"
      },
      "source": [
        ""
      ],
      "execution_count": null,
      "outputs": []
    }
  ]
}