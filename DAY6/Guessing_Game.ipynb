{
  "nbformat": 4,
  "nbformat_minor": 0,
  "metadata": {
    "colab": {
      "name": "Guessing_Game.ipynb",
      "provenance": [],
      "collapsed_sections": []
    },
    "kernelspec": {
      "name": "python3",
      "display_name": "Python 3"
    }
  },
  "cells": [
    {
      "cell_type": "code",
      "metadata": {
        "id": "oywXuSIawDrT",
        "outputId": "71413978-9894-475d-c112-d465813a7bfe",
        "colab": {
          "base_uri": "https://localhost:8080/"
        }
      },
      "source": [
        "import random\n",
        "randNumber = random.randint(1,100)\n",
        "guesses = 0\n",
        "\n",
        "userGuess = None\n",
        "\n",
        "while (userGuess != randNumber):\n",
        "\n",
        "    try:\n",
        "        userGuess = int(input(\"Enter Your Guess: \"))\n",
        "\n",
        "        if (userGuess == randNumber):\n",
        "            print(\"congrats!! You have guessed correctly\")\n",
        "        else:\n",
        "            if (userGuess>randNumber):\n",
        "                print(\"You guessed wrong!!Enter a Smaller number to win\")\n",
        "            else:\n",
        "                print(\"You guessed wrong!!Enter a larger number to win\")\n",
        "        guesses += 1\n",
        "    except Exception as e:\n",
        "        print(\"Enter a valid number only\")\n",
        "    else:\n",
        "        print(\"Thank you for playing this Game!!\")\n",
        "\n",
        "print(f\"Number of time You gussed to win this game : {guesses}\")\n",
        "\n",
        "#use this code if u want to save ur high score in a seperate txt file\n",
        "\n",
        "# with open(\"highscore.txt\") as f:\n",
        "#     a = int(f.read())\n",
        "# if a>guesses:\n",
        "#     print(\"You have just broken the high score\")\n",
        "#     with open(\"highscore.txt\",'w') as f:\n",
        "#         f.write(str(guesses))"
      ],
      "execution_count": 15,
      "outputs": [
        {
          "output_type": "stream",
          "text": [
            "Enter Your Guess: 5\n",
            "You guessed wrong!!Enter a larger number to win\n",
            "Thank you for playing this Game!!\n",
            "Enter Your Guess: 50\n",
            "You guessed wrong!!Enter a Smaller number to win\n",
            "Thank you for playing this Game!!\n",
            "Enter Your Guess: 40\n",
            "You guessed wrong!!Enter a Smaller number to win\n",
            "Thank you for playing this Game!!\n",
            "Enter Your Guess: 30\n",
            "You guessed wrong!!Enter a larger number to win\n",
            "Thank you for playing this Game!!\n",
            "Enter Your Guess: 35\n",
            "You guessed wrong!!Enter a Smaller number to win\n",
            "Thank you for playing this Game!!\n",
            "Enter Your Guess: 32\n",
            "You guessed wrong!!Enter a larger number to win\n",
            "Thank you for playing this Game!!\n",
            "Enter Your Guess: 33\n",
            "You guessed wrong!!Enter a larger number to win\n",
            "Thank you for playing this Game!!\n",
            "Enter Your Guess: 34\n",
            "congrats!! You have guessed correctly\n",
            "Thank you for playing this Game!!\n",
            "Number of time You gussed to win this game : 8\n"
          ],
          "name": "stdout"
        }
      ]
    },
    {
      "cell_type": "code",
      "metadata": {
        "id": "Nl6lUmjwwfyD"
      },
      "source": [
        ""
      ],
      "execution_count": 2,
      "outputs": []
    },
    {
      "cell_type": "code",
      "metadata": {
        "id": "i1yxJ4bWwsok"
      },
      "source": [
        ""
      ],
      "execution_count": 11,
      "outputs": []
    },
    {
      "cell_type": "code",
      "metadata": {
        "id": "1Vbuq3mCxBCx"
      },
      "source": [
        ""
      ],
      "execution_count": null,
      "outputs": []
    }
  ]
}