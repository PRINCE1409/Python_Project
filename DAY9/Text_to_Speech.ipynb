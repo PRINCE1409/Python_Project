{
  "nbformat": 4,
  "nbformat_minor": 0,
  "metadata": {
    "colab": {
      "name": "Text to Speech.ipynb",
      "provenance": []
    },
    "kernelspec": {
      "name": "python3",
      "display_name": "Python 3"
    }
  },
  "cells": [
    {
      "cell_type": "code",
      "metadata": {
        "id": "gaxsdH3CHDbJ",
        "outputId": "3100178d-e8df-4b12-a30e-3dea4e3d0a0e",
        "colab": {
          "base_uri": "https://localhost:8080/"
        }
      },
      "source": [
        "pip install gTTs"
      ],
      "execution_count": 6,
      "outputs": [
        {
          "output_type": "stream",
          "text": [
            "Collecting gTTs\n",
            "  Downloading https://files.pythonhosted.org/packages/44/31/4494ecac89677d3c839d079363ab655c4751764803ddcd22bcc37f6d32f8/gTTS-2.2.1-py3-none-any.whl\n",
            "Requirement already satisfied: six in /usr/local/lib/python3.6/dist-packages (from gTTs) (1.15.0)\n",
            "Requirement already satisfied: requests in /usr/local/lib/python3.6/dist-packages (from gTTs) (2.23.0)\n",
            "Requirement already satisfied: click in /usr/local/lib/python3.6/dist-packages (from gTTs) (7.1.2)\n",
            "Requirement already satisfied: urllib3!=1.25.0,!=1.25.1,<1.26,>=1.21.1 in /usr/local/lib/python3.6/dist-packages (from requests->gTTs) (1.24.3)\n",
            "Requirement already satisfied: certifi>=2017.4.17 in /usr/local/lib/python3.6/dist-packages (from requests->gTTs) (2020.6.20)\n",
            "Requirement already satisfied: chardet<4,>=3.0.2 in /usr/local/lib/python3.6/dist-packages (from requests->gTTs) (3.0.4)\n",
            "Requirement already satisfied: idna<3,>=2.5 in /usr/local/lib/python3.6/dist-packages (from requests->gTTs) (2.10)\n",
            "Installing collected packages: gTTs\n",
            "Successfully installed gTTs-2.2.1\n"
          ],
          "name": "stdout"
        }
      ]
    },
    {
      "cell_type": "code",
      "metadata": {
        "id": "RoQmjRGIHoPw"
      },
      "source": [
        "from gtts import gTTS"
      ],
      "execution_count": 8,
      "outputs": []
    },
    {
      "cell_type": "code",
      "metadata": {
        "id": "HsUtF_2gIBBz"
      },
      "source": [
        "import os"
      ],
      "execution_count": 9,
      "outputs": []
    },
    {
      "cell_type": "code",
      "metadata": {
        "id": "mWF37D4lIGuE",
        "outputId": "986ab12a-ca61-4deb-c38d-871f21a74c43",
        "colab": {
          "base_uri": "https://localhost:8080/"
        }
      },
      "source": [
        "fh = open('/content/file.txt','r')\n",
        "mytext = fh.read().replace(\"\\n\",\" \")\n",
        "lan = 'en'\n",
        "output=gTTS(text=mytext,lang=lan,slow=False)\n",
        "output.save(\"output.mp3\")\n",
        "fh.close()\n",
        "os.system(\"start output.mp3\")"
      ],
      "execution_count": 11,
      "outputs": [
        {
          "output_type": "execute_result",
          "data": {
            "text/plain": [
              "32512"
            ]
          },
          "metadata": {
            "tags": []
          },
          "execution_count": 11
        }
      ]
    },
    {
      "cell_type": "code",
      "metadata": {
        "id": "6M1pV8kJIJcY"
      },
      "source": [
        ""
      ],
      "execution_count": null,
      "outputs": []
    }
  ]
}