{
  "nbformat": 4,
  "nbformat_minor": 0,
  "metadata": {
    "colab": {
      "name": "Link Shortener.ipynb",
      "provenance": []
    },
    "kernelspec": {
      "name": "python3",
      "display_name": "Python 3"
    },
    "accelerator": "GPU"
  },
  "cells": [
    {
      "cell_type": "code",
      "metadata": {
        "colab": {
          "base_uri": "https://localhost:8080/"
        },
        "id": "zdsDKWP1VRFP",
        "outputId": "72f407fa-6698-427d-b317-d7eb57d3a65c"
      },
      "source": [
        "pip install pyshorteners"
      ],
      "execution_count": 4,
      "outputs": [
        {
          "output_type": "stream",
          "text": [
            "Collecting pyshorteners\n",
            "  Downloading https://files.pythonhosted.org/packages/80/13/7dd5f53ac009775e18861f41efadf78160e1015c84a476d373957cb63b5c/pyshorteners-1.0.1.tar.gz\n",
            "Requirement already satisfied: requests in /usr/local/lib/python3.6/dist-packages (from pyshorteners) (2.23.0)\n",
            "Requirement already satisfied: idna<3,>=2.5 in /usr/local/lib/python3.6/dist-packages (from requests->pyshorteners) (2.10)\n",
            "Requirement already satisfied: chardet<4,>=3.0.2 in /usr/local/lib/python3.6/dist-packages (from requests->pyshorteners) (3.0.4)\n",
            "Requirement already satisfied: certifi>=2017.4.17 in /usr/local/lib/python3.6/dist-packages (from requests->pyshorteners) (2020.6.20)\n",
            "Requirement already satisfied: urllib3!=1.25.0,!=1.25.1,<1.26,>=1.21.1 in /usr/local/lib/python3.6/dist-packages (from requests->pyshorteners) (1.24.3)\n",
            "Building wheels for collected packages: pyshorteners\n",
            "  Building wheel for pyshorteners (setup.py) ... \u001b[?25l\u001b[?25hdone\n",
            "  Created wheel for pyshorteners: filename=pyshorteners-1.0.1-cp36-none-any.whl size=17496 sha256=926b3d7b5f51a6f4bec81360ef901b4491a7f747b100c161e2a178a2944ec22c\n",
            "  Stored in directory: /root/.cache/pip/wheels/99/2b/ab/854c6fdf96d6775ffe179ec99211af2adecb450108c477ada2\n",
            "Successfully built pyshorteners\n",
            "Installing collected packages: pyshorteners\n",
            "Successfully installed pyshorteners-1.0.1\n"
          ],
          "name": "stdout"
        }
      ]
    },
    {
      "cell_type": "code",
      "metadata": {
        "id": "NFryy-uYS2oP",
        "colab": {
          "base_uri": "https://localhost:8080/"
        },
        "outputId": "033af885-2e3b-476c-d37b-dcb747ecb847"
      },
      "source": [
        "import pyshorteners\n",
        "\n",
        "link = input(\"enter the link:\") #variable\n",
        "shortener = pyshorteners.Shortener() #class object\n",
        "\n",
        "x = shortener.tinyurl.short(link) #shorting the link\n",
        "\n",
        "print(x)"
      ],
      "execution_count": 2,
      "outputs": [
        {
          "output_type": "stream",
          "text": [
            "enter the link:https://www.youtube.com/watch?v=i_whG7S0lDc&ab_channel=Kalamkaar\n",
            "https://tinyurl.com/y3r79afh\n"
          ],
          "name": "stdout"
        }
      ]
    }
  ]
}