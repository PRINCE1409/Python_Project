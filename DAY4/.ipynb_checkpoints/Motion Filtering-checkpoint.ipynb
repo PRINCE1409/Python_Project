{
 "cells": [
  {
   "cell_type": "code",
   "execution_count": 1,
   "metadata": {},
   "outputs": [],
   "source": [
    "import cv2 as cv"
   ]
  },
  {
   "cell_type": "code",
   "execution_count": 2,
   "metadata": {},
   "outputs": [],
   "source": [
    "video = cv.VideoCapture(\"People.mp4\")\n",
    "subtractor = cv.BackgroundSubtractorMOG2(20,50)"
   ]
  },
  {
   "cell_type": "code",
   "execution_count": null,
   "metadata": {},
   "outputs": [],
   "source": [
    "while True:\n",
    "    ret , frame = video.read()\n",
    "    if ret:\n",
    "        mask = subtractor.apply(frame)\n",
    "        cv.imshow('Mask',mask)\n",
    "        \n",
    "        if cv.waitKey(5) == ord('X'):\n",
    "            break\n",
    "    else:\n",
    "        video=cv.VideoCapture('People.mp4')"
   ]
  },
  {
   "cell_type": "code",
   "execution_count": null,
   "metadata": {},
   "outputs": [],
   "source": [
    "cv.destroyAllWindows()\n",
    "video.release()"
   ]
  }
 ],
 "metadata": {
  "kernelspec": {
   "display_name": "prince",
   "language": "python",
   "name": "prince"
  },
  "language_info": {
   "codemirror_mode": {
    "name": "ipython",
    "version": 3
   },
   "file_extension": ".py",
   "mimetype": "text/x-python",
   "name": "python",
   "nbconvert_exporter": "python",
   "pygments_lexer": "ipython3",
   "version": "3.7.4"
  }
 },
 "nbformat": 4,
 "nbformat_minor": 2
}
