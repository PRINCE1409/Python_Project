{
  "nbformat": 4,
  "nbformat_minor": 0,
  "metadata": {
    "colab": {
      "name": "wiki_random.ipynb",
      "provenance": []
    },
    "kernelspec": {
      "name": "python3",
      "display_name": "Python 3"
    }
  },
  "cells": [
    {
      "cell_type": "code",
      "metadata": {
        "colab": {
          "base_uri": "https://localhost:8080/"
        },
        "id": "jkcuzCJ7BX5A",
        "outputId": "142eb713-7563-4847-84d8-db3d35f868a3"
      },
      "source": [
        "from bs4 import BeautifulSoup\n",
        "import requests\n",
        "\n",
        "res = requests.get(\"https://en.wikipedia.org/wiki/Special:Random\")\n",
        "res.raise_for_status()\n",
        "\n",
        "# pip install htmlparser\n",
        "wiki = BeautifulSoup(res.text, \"html.parser\")\n",
        "\n",
        "r = open(\"random_wiki.txt\", \"w+\", encoding='utf-8')\n",
        "\n",
        "# Adding the heading to the text file\n",
        "heading = wiki.find(\"h1\").text\n",
        "\n",
        "r.write(heading + \"\\n\")\n",
        "for i in wiki.select(\"p\"):\n",
        "    # Optional Printing of text\n",
        "    # print(i.getText())\n",
        "    r.write(i.getText())\n",
        "\n",
        "r.close()\n",
        "print(\"File Saved as random_wiki.txt\")"
      ],
      "execution_count": 2,
      "outputs": [
        {
          "output_type": "stream",
          "text": [
            "File Saved as random_wiki.txt\n"
          ],
          "name": "stdout"
        }
      ]
    }
  ]
}