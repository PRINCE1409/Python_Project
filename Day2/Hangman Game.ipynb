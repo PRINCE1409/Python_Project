{
 "cells": [
  {
   "cell_type": "markdown",
   "metadata": {},
   "source": [
    "### Hangman Game"
   ]
  },
  {
   "cell_type": "code",
   "execution_count": null,
   "metadata": {},
   "outputs": [],
   "source": [
    "word = \"secret\""
   ]
  },
  {
   "cell_type": "code",
   "execution_count": null,
   "metadata": {},
   "outputs": [],
   "source": [
    "allowed_errors = 7\n",
    "guesses = []\n",
    "done = False"
   ]
  },
  {
   "cell_type": "code",
   "execution_count": null,
   "metadata": {},
   "outputs": [],
   "source": [
    "while not done:\n",
    "    for letter in word:\n",
    "        if letter.lower() in guesses:\n",
    "            print(letter,end=\" \")\n",
    "        else:\n",
    "            print(\"_\",end=\" \")\n",
    "    print(\"\")\n",
    "    done = True\n",
    "    guess = input(f\"Allowed Errors left {allowed_errors},Next guess: \")\n",
    "    guesses.append(guess.lower())\n",
    "    if guess.lower() not in word.lower():\n",
    "        allowed_errors -= 1\n",
    "        if allowed_errors ==0:\n",
    "            break\n",
    "        \n",
    "    done = True\n",
    "    for letter in word:\n",
    "        if letter.lower() not in guesses:\n",
    "            done = False\n",
    "if done:\n",
    "    print(f\"You won , The word was {word}!!\")\n",
    "else:\n",
    "    print(f\"Game over! you lost , the word was {word}\")"
   ]
  },
  {
   "cell_type": "code",
   "execution_count": null,
   "metadata": {},
   "outputs": [],
   "source": []
  },
  {
   "cell_type": "code",
   "execution_count": null,
   "metadata": {},
   "outputs": [],
   "source": []
  },
  {
   "cell_type": "code",
   "execution_count": null,
   "metadata": {},
   "outputs": [],
   "source": []
  }
 ],
 "metadata": {
  "kernelspec": {
   "display_name": "Python 3",
   "language": "python",
   "name": "python3"
  },
  "language_info": {
   "codemirror_mode": {
    "name": "ipython",
    "version": 3
   },
   "file_extension": ".py",
   "mimetype": "text/x-python",
   "name": "python",
   "nbconvert_exporter": "python",
   "pygments_lexer": "ipython3",
   "version": "3.7.4"
  }
 },
 "nbformat": 4,
 "nbformat_minor": 2
}
