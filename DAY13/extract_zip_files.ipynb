{
  "nbformat": 4,
  "nbformat_minor": 0,
  "metadata": {
    "colab": {
      "name": "extract_zip_files.ipynb",
      "provenance": []
    },
    "kernelspec": {
      "name": "python3",
      "display_name": "Python 3"
    }
  },
  "cells": [
    {
      "cell_type": "code",
      "metadata": {
        "id": "5EQ0WYw06O97"
      },
      "source": [
        "import os\n",
        "import zipfile\n",
        "import sys\n",
        "import argparse\n",
        "\n",
        "# Code to add the cli\n",
        "parser = argparse.ArgumentParser()\n",
        "parser.add_argument(\"-l\", \"--zippedfile\", required=True, help=\"Zipped file\")\n",
        "args = vars(parser.parse_args())\n",
        "\n",
        "#Catching the user defined zip file\n",
        "zip_file = args['zippedfile']\n",
        "\n",
        "file_name = zip_file\n",
        "\n",
        "#To check if the entered zip file is present in the directory\n",
        "if os.path.exists(zip_file) == False:\n",
        "    sys.exit(\"No such file present in the directory\")\n",
        "\n",
        "#Function to extract the zip file\n",
        "def extract(zip_file):\n",
        "    file_name = zip_file.split(\".zip\")[0]\n",
        "    if zip_file.endswith(\".zip\"):\n",
        "        \n",
        "        #Will use this to save the unzipped file in the current directory\n",
        "        current_working_directory = os.getcwd()\n",
        "        new_directory = current_working_directory + \"/\" + file_name\n",
        "        #Logic to unzip the file\n",
        "        with zipfile.ZipFile(zip_file, 'r') as zip_object:\n",
        "            zip_object.extractall(new_directory)\n",
        "        print(\"Extracted successfully!!!\")\n",
        "    else:\n",
        "        print(\"Not a zip file\")\n",
        "\n",
        "extract(zip_file) "
      ],
      "execution_count": null,
      "outputs": []
    }
  ]
}