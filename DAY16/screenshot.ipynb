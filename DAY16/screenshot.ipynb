{
  "nbformat": 4,
  "nbformat_minor": 0,
  "metadata": {
    "colab": {
      "name": "screenshot.ipynb",
      "provenance": []
    },
    "kernelspec": {
      "name": "python3",
      "display_name": "Python 3"
    }
  },
  "cells": [
    {
      "cell_type": "code",
      "metadata": {
        "colab": {
          "base_uri": "https://localhost:8080/"
        },
        "id": "Eff-omzNeZv0",
        "outputId": "d0c12e54-5856-4172-e0bb-18ed7b3ce0ac"
      },
      "source": [
        "pip install pyautogui\n"
      ],
      "execution_count": 2,
      "outputs": [
        {
          "output_type": "stream",
          "text": [
            "Collecting pyautogui\n",
            "\u001b[?25l  Downloading https://files.pythonhosted.org/packages/40/0a/1373680148828d7ea3f0e432f06c08f51a33d72306719954d3ae379f5890/PyAutoGUI-0.9.52.tar.gz (55kB)\n",
            "\r\u001b[K     |█████▉                          | 10kB 17.3MB/s eta 0:00:01\r\u001b[K     |███████████▊                    | 20kB 12.4MB/s eta 0:00:01\r\u001b[K     |█████████████████▋              | 30kB 5.9MB/s eta 0:00:01\r\u001b[K     |███████████████████████▌        | 40kB 5.2MB/s eta 0:00:01\r\u001b[K     |█████████████████████████████▎  | 51kB 2.7MB/s eta 0:00:01\r\u001b[K     |████████████████████████████████| 61kB 2.4MB/s \n",
            "\u001b[?25hCollecting pymsgbox\n",
            "  Downloading https://files.pythonhosted.org/packages/7d/ff/4c6f31a4f08979f12a663f2aeb6c8b765d3bd592e66eaaac445f547bb875/PyMsgBox-1.0.9.tar.gz\n",
            "  Installing build dependencies ... \u001b[?25l\u001b[?25hdone\n",
            "  Getting requirements to build wheel ... \u001b[?25l\u001b[?25hdone\n",
            "    Preparing wheel metadata ... \u001b[?25l\u001b[?25hdone\n",
            "Collecting PyTweening>=1.0.1\n",
            "  Downloading https://files.pythonhosted.org/packages/b9/f8/c32a58d6e4dff8aa5c27e907194d69f3b57e525c2e4af96f39c6e9c854d2/PyTweening-1.0.3.zip\n",
            "Collecting pyscreeze>=0.1.21\n",
            "  Downloading https://files.pythonhosted.org/packages/b7/7d/a0e85da28a96e2ff2f39e682ff84eb92501b564883fde87d92aee29966a2/PyScreeze-0.1.26.tar.gz\n",
            "Collecting pygetwindow>=0.0.5\n",
            "  Downloading https://files.pythonhosted.org/packages/e1/70/c7a4f46dbf06048c6d57d9489b8e0f9c4c3d36b7479f03c5ca97eaa2541d/PyGetWindow-0.0.9.tar.gz\n",
            "Collecting mouseinfo\n",
            "  Downloading https://files.pythonhosted.org/packages/28/fa/b2ba8229b9381e8f6381c1dcae6f4159a7f72349e414ed19cfbbd1817173/MouseInfo-0.1.3.tar.gz\n",
            "Collecting python3-Xlib\n",
            "\u001b[?25l  Downloading https://files.pythonhosted.org/packages/ef/c6/2c5999de3bb1533521f1101e8fe56fd9c266732f4d48011c7c69b29d12ae/python3-xlib-0.15.tar.gz (132kB)\n",
            "\u001b[K     |████████████████████████████████| 133kB 5.4MB/s \n",
            "\u001b[?25hRequirement already satisfied: Pillow>=4.0.0 in /usr/local/lib/python3.6/dist-packages (from pyscreeze>=0.1.21->pyautogui) (7.0.0)\n",
            "Collecting pyrect\n",
            "  Downloading https://files.pythonhosted.org/packages/2f/68/bd7bf96fc44217e769f27912e6c9bb3e9987cba286054af6120448ce8212/PyRect-0.1.4.tar.gz\n",
            "Collecting pyperclip\n",
            "  Downloading https://files.pythonhosted.org/packages/6f/4c/0b1d507ad7e8bc31d690d04b4f475e74c2002d060f7994ce8c09612df707/pyperclip-1.8.1.tar.gz\n",
            "Building wheels for collected packages: pymsgbox\n",
            "  Building wheel for pymsgbox (PEP 517) ... \u001b[?25l\u001b[?25hdone\n",
            "  Created wheel for pymsgbox: filename=PyMsgBox-1.0.9-cp36-none-any.whl size=7421 sha256=c7d3b721aa7cb004c941e341618cd9762d9ee341fb9453c2bfb5c6cd69f1bb6b\n",
            "  Stored in directory: /root/.cache/pip/wheels/16/d7/4e/fffdd54b1cca86608b7655c9a2854890a38f955ce9532848cd\n",
            "Successfully built pymsgbox\n",
            "Building wheels for collected packages: pyautogui, PyTweening, pyscreeze, pygetwindow, mouseinfo, python3-Xlib, pyrect, pyperclip\n",
            "  Building wheel for pyautogui (setup.py) ... \u001b[?25l\u001b[?25hdone\n",
            "  Created wheel for pyautogui: filename=PyAutoGUI-0.9.52-cp36-none-any.whl size=35194 sha256=974f999ab4f6b004acc9bbb8385db10a46529cfadb8c0dc0af5384037b42e893\n",
            "  Stored in directory: /root/.cache/pip/wheels/c8/ae/a9/62d83c8ea2068e8553766c8f6f5fbf1f61d264701cafeca49f\n",
            "  Building wheel for PyTweening (setup.py) ... \u001b[?25l\u001b[?25hdone\n",
            "  Created wheel for PyTweening: filename=PyTweening-1.0.3-cp36-none-any.whl size=3816 sha256=b1bec898867382d56733da3c1c2bb1ab5b88fd42cb4413fc87692e3678d66b59\n",
            "  Stored in directory: /root/.cache/pip/wheels/7b/92/30/06e21159eed2709436bfb6d7c690959e578cf74f029643866e\n",
            "  Building wheel for pyscreeze (setup.py) ... \u001b[?25l\u001b[?25hdone\n",
            "  Created wheel for pyscreeze: filename=PyScreeze-0.1.26-cp36-none-any.whl size=11932 sha256=d856da9932debcdf03afc233575bb8513d4d45faf34f5251c67835354be6fc86\n",
            "  Stored in directory: /root/.cache/pip/wheels/d4/a5/e1/d06a3ae91e6c66ab67d540c215bc2a0da99155c1281e8c921e\n",
            "  Building wheel for pygetwindow (setup.py) ... \u001b[?25l\u001b[?25hdone\n",
            "  Created wheel for pygetwindow: filename=PyGetWindow-0.0.9-cp36-none-any.whl size=11082 sha256=5a7becdd5dd8c8d5af7d1d8337823d540960edf9c549465e0772e741e8e72f87\n",
            "  Stored in directory: /root/.cache/pip/wheels/4b/c1/c6/89b4fb35adcbfe54c5e71e830330dc39cfa231b32dc62eed6b\n",
            "  Building wheel for mouseinfo (setup.py) ... \u001b[?25l\u001b[?25hdone\n",
            "  Created wheel for mouseinfo: filename=MouseInfo-0.1.3-cp36-none-any.whl size=10908 sha256=92dda903a4b91e6e368f4fc2d7375b7ce28f5bd6d69817d815efeaf7477ccd36\n",
            "  Stored in directory: /root/.cache/pip/wheels/eb/81/32/4d7b345486dbc3f3ee45316f8f4cbdebafc1b5d1da3353b529\n",
            "  Building wheel for python3-Xlib (setup.py) ... \u001b[?25l\u001b[?25hdone\n",
            "  Created wheel for python3-Xlib: filename=python3_xlib-0.15-cp36-none-any.whl size=109517 sha256=1889caa65d16f77c7781822898c3b12b96f54a9003dad83fbfdbc3cd1d672805\n",
            "  Stored in directory: /root/.cache/pip/wheels/e9/be/31/bebab5ac079cfa8305381fa6ee15ea142eade1fec0c71e1278\n",
            "  Building wheel for pyrect (setup.py) ... \u001b[?25l\u001b[?25hdone\n",
            "  Created wheel for pyrect: filename=PyRect-0.1.4-py2.py3-none-any.whl size=9547 sha256=917b814a76d9c7d36c63ec10974b1db4f64ac32ba55057a1b257b9a1a97d8f0a\n",
            "  Stored in directory: /root/.cache/pip/wheels/3e/61/83/8fd1478e984f7378e57972f5fd9bb0dbffc349fefc9efa5bf9\n",
            "  Building wheel for pyperclip (setup.py) ... \u001b[?25l\u001b[?25hdone\n",
            "  Created wheel for pyperclip: filename=pyperclip-1.8.1-cp36-none-any.whl size=11119 sha256=e2b35cb64462d31dadcec1a6b02c82b22251e1bcab55669c36ccc7614f942b1a\n",
            "  Stored in directory: /root/.cache/pip/wheels/44/10/3a/c830e9bb3db2c93274ea1f213a41fabde0d8cf3794251fad0c\n",
            "Successfully built pyautogui PyTweening pyscreeze pygetwindow mouseinfo python3-Xlib pyrect pyperclip\n",
            "Installing collected packages: pymsgbox, PyTweening, pyscreeze, pyrect, pygetwindow, pyperclip, python3-Xlib, mouseinfo, pyautogui\n",
            "Successfully installed PyTweening-1.0.3 mouseinfo-0.1.3 pyautogui-0.9.52 pygetwindow-0.0.9 pymsgbox-1.0.9 pyperclip-1.8.1 pyrect-0.1.4 pyscreeze-0.1.26 python3-Xlib-0.15\n"
          ],
          "name": "stdout"
        }
      ]
    },
    {
      "cell_type": "code",
      "metadata": {
        "id": "6Ft2xj6SeoRO"
      },
      "source": [
        "import os\n",
        "import argparse\n",
        "import pyautogui\n",
        "import time\n",
        "\n",
        "parser = argparse.ArgumentParser()\n",
        "\n",
        "parser.add_argument(\"-p\", \"--path\", help=\"absolute path to store screenshot.\", default=r\"./images\")\n",
        "parser.add_argument(\"-t\", \"--type\", help=\"h (in hour) or m (in minutes) or s (in seconds)\", default='h')\n",
        "parser.add_argument(\"-f\", \"--frequency\", help=\"frequency for taking screenshot per h/m/s.\", default=1, type=int)\n",
        "\n",
        "args = parser.parse_args()\n",
        "\n",
        "\n",
        "sec = 0.\n",
        "\n",
        "if args.type == 'h':\n",
        "    sec = 60 * 60 / args.frequency\n",
        "elif args.type == 'm':\n",
        "    sec = 60 / args.frequency\n",
        "\n",
        "if sec < 1.:\n",
        "    sec = 1.\n",
        "    \n",
        "\n",
        "if os.path.isdir(args.path) != True:\n",
        "    os.mkdir(args.path)\n",
        "\n",
        "\n",
        "try:\n",
        "    while True:\n",
        "        t = time.localtime()\n",
        "        current_time = time.strftime(\"%H_%M_%S\", t)\n",
        "        file = current_time + \".jpg\"\n",
        "        image = pyautogui.screenshot(os.path.join(args.path,file))\n",
        "        print(f\"{file} saved successfully.\\n\")\n",
        "        time.sleep(sec)\n",
        "        \n",
        "except KeyboardInterrupt:\n",
        "    print(\"End of script by user interrupt\")"
      ],
      "execution_count": null,
      "outputs": []
    }
  ]
}